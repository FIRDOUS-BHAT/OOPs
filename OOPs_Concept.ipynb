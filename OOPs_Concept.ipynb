{
 "cells": [
  {
   "cell_type": "markdown",
   "metadata": {},
   "source": [
    "Object-Oriented Programming (OOP) offers several compelling advantages that make it a preferred programming paradigm. One of the most significant benefits is code reusability through inheritance. In OOP, classes can inherit attributes and behaviors (methods) from existing classes, allowing developers to create new functionality without rewriting existing code. This leads to cleaner, more maintainable, and more efficient code.\n",
    "\n",
    "By using inheritance, developers can build upon existing components, making it easier to extend applications and reducing the likelihood of introducing errors. This modularity and reuse of code save time and effort, enhancing productivity and ensuring consistency across the application."
   ]
  },
  {
   "cell_type": "markdown",
   "metadata": {},
   "source": [
    "Sure! Let's create a simple example to demonstrate the principles of OOP, specifically focusing on inheritance and code reusability.\n",
    "\n",
    "Imagine we are creating a program to manage a library system. We will start with a base class Book and then create a derived class EBook that inherits from Book.\n",
    "\n"
   ]
  },
  {
   "cell_type": "markdown",
   "metadata": {},
   "source": [
    "### Step 1: Define the Base Class\n",
    "First, we create the Book class, which includes common attributes and methods for all books."
   ]
  },
  {
   "cell_type": "code",
   "execution_count": 1,
   "metadata": {},
   "outputs": [],
   "source": [
    "class Book:\n",
    "    def __init__(self, title, author, pages):\n",
    "        self.title = title\n",
    "        self.author = author\n",
    "        self.pages = pages\n",
    "\n",
    "    def get_info(self):\n",
    "        return f\"Title: {self.title}, Author: {self.author}, Pages: {self.pages}\"\n",
    "\n",
    "    def read(self):\n",
    "        return f\"Reading {self.title} by {self.author}\""
   ]
  },
  {
   "cell_type": "markdown",
   "metadata": {},
   "source": [
    "### Step 2: Define the Derived Class\n",
    "Next, we create the `EBook` class that inherits from `Book` and adds specific attributes and methods for ebooks."
   ]
  },
  {
   "cell_type": "code",
   "execution_count": 2,
   "metadata": {},
   "outputs": [],
   "source": [
    "class EBook(Book):\n",
    "    def __init__(self, title, author, pages, file_size):\n",
    "        super().__init__(title, author, pages)\n",
    "        self.file_size = file_size\n",
    "\n",
    "    def get_info(self):\n",
    "        base_info = super().get_info()\n",
    "        return f\"{base_info}, File Size: {self.file_size}MB\"\n",
    "\n",
    "    def download(self):\n",
    "        return f\"Downloading {self.title} by {self.author}, Size: {self.file_size}MB\""
   ]
  },
  {
   "cell_type": "markdown",
   "metadata": {},
   "source": [
    "## Step 3: Use the Classes\n",
    "Now, let's create instances of `Book` and `EBook` and demonstrate their usage."
   ]
  },
  {
   "cell_type": "code",
   "execution_count": 3,
   "metadata": {},
   "outputs": [
    {
     "name": "stdout",
     "output_type": "stream",
     "text": [
      "Title: 1984, Author: George Orwell, Pages: 328\n",
      "Reading 1984 by George Orwell\n",
      "Title: Python 101, Author: Michael Driscoll, Pages: 299, File Size: 2MB\n",
      "Reading Python 101 by Michael Driscoll\n",
      "Downloading Python 101 by Michael Driscoll, Size: 2MB\n"
     ]
    }
   ],
   "source": [
    "# Create an instance of Book\n",
    "book = Book(\"1984\", \"George Orwell\", 328)\n",
    "print(book.get_info())\n",
    "print(book.read())\n",
    "\n",
    "# Create an instance of EBook\n",
    "ebook = EBook(\"Python 101\", \"Michael Driscoll\", 299, 2)\n",
    "print(ebook.get_info())\n",
    "print(ebook.read())\n",
    "print(ebook.download())"
   ]
  },
  {
   "cell_type": "markdown",
   "metadata": {},
   "source": [
    "#### Object-Oriented Programming (OOP) has several other key features besides inheritance and code reusability. Here are the main ones:"
   ]
  },
  {
   "cell_type": "markdown",
   "metadata": {},
   "source": [
    "### Encapsulation:\n",
    "\n",
    "Definition: Encapsulation is the concept of bundling the data (attributes) and methods (functions) that operate on the data into a single unit, typically a class. It restricts direct access to some of the object's components, which is a way of preventing accidental interference and misuse of the data.\n",
    "Example:\n"
   ]
  },
  {
   "cell_type": "code",
   "execution_count": 4,
   "metadata": {},
   "outputs": [],
   "source": [
    "class EncapsulatedBook:\n",
    "    def __init__(self, title, author, pages):\n",
    "        self.__title = title  # Private attribute\n",
    "        self.__author = author  # Private attribute\n",
    "        self.__pages = pages  # Private attribute\n",
    "\n",
    "    def get_info(self):\n",
    "        return f\"Title: {self.__title}, Author: {self.__author}, Pages: {self.__pages}\"\n",
    "\n",
    "    def set_title(self, title):\n",
    "        self.__title = title\n",
    "\n",
    "    def get_title(self):\n",
    "        return self.__title"
   ]
  },
  {
   "cell_type": "markdown",
   "metadata": {},
   "source": [
    "### Abstraction:\n",
    "\n",
    "Definition: Abstraction means hiding the complex implementation details and showing only the essential features of the object. It helps in reducing programming complexity and effort.\n",
    "\n",
    "Example:\n"
   ]
  },
  {
   "cell_type": "code",
   "execution_count": 6,
   "metadata": {},
   "outputs": [],
   "source": [
    "from abc import ABC, abstractmethod\n",
    "\n",
    "\n",
    "class Book(ABC):\n",
    "    @abstractmethod\n",
    "    def get_info(self):\n",
    "        pass\n",
    "\n",
    "\n",
    "class PhysicalBook(Book):\n",
    "    def __init__(self, title, author, pages):\n",
    "        self.title = title\n",
    "        self.author = author\n",
    "        self.pages = pages\n",
    "\n",
    "    def get_info(self):\n",
    "        return f\"Title: {self.title}, Author: {self.author}, Pages: {self.pages}\""
   ]
  },
  {
   "cell_type": "markdown",
   "metadata": {},
   "source": [
    "### Polymorphism:\n",
    "\n",
    "Definition: Polymorphism allows methods to do different things based on the object it is acting upon, even though they share the same name. It allows one interface to be used for a general class of actions.\n",
    "Example:\n"
   ]
  },
  {
   "cell_type": "code",
   "execution_count": 7,
   "metadata": {},
   "outputs": [
    {
     "name": "stdout",
     "output_type": "stream",
     "text": [
      "Title: 1984, Author: George Orwell\n",
      "Title: Python 101, Author: Michael Driscoll, File Size: 2MB\n"
     ]
    }
   ],
   "source": [
    "class Book:\n",
    "    def __init__(self, title, author):\n",
    "        self.title = title\n",
    "        self.author = author\n",
    "\n",
    "    def get_info(self):\n",
    "        return f\"Title: {self.title}, Author: {self.author}\"\n",
    "\n",
    "\n",
    "class EBook(Book):\n",
    "    def __init__(self, title, author, file_size):\n",
    "        super().__init__(title, author)\n",
    "        self.file_size = file_size\n",
    "\n",
    "    def get_info(self):\n",
    "        return f\"Title: {self.title}, Author: {self.author}, File Size: {self.file_size}MB\"\n",
    "\n",
    "\n",
    "def print_book_info(book):\n",
    "    print(book.get_info())\n",
    "\n",
    "\n",
    "# Usage\n",
    "book = Book(\"1984\", \"George Orwell\")\n",
    "ebook = EBook(\"Python 101\", \"Michael Driscoll\", 2)\n",
    "print_book_info(book)\n",
    "print_book_info(ebook)"
   ]
  },
  {
   "cell_type": "markdown",
   "metadata": {},
   "source": [
    "### Composition:\n",
    "\n",
    "Definition: Composition is a design principle where a class is composed of one or more objects from other classes, meaning that it holds instances of other classes as members.\n",
    "Example:\n"
   ]
  },
  {
   "cell_type": "code",
   "execution_count": 8,
   "metadata": {},
   "outputs": [
    {
     "name": "stdout",
     "output_type": "stream",
     "text": [
      "Title: 1984, Author: George Orwell, Born: 1903\n"
     ]
    }
   ],
   "source": [
    "class Author:\n",
    "    def __init__(self, name, birth_year):\n",
    "        self.name = name\n",
    "        self.birth_year = birth_year\n",
    "\n",
    "\n",
    "class Book:\n",
    "    def __init__(self, title, author):\n",
    "        self.title = title\n",
    "        self.author = author\n",
    "\n",
    "    def get_info(self):\n",
    "        return f\"Title: {self.title}, Author: {self.author.name}, Born: {self.author.birth_year}\"\n",
    "\n",
    "\n",
    "# Usage\n",
    "author = Author(\"George Orwell\", 1903)\n",
    "book = Book(\"1984\", author)\n",
    "print(book.get_info())"
   ]
  },
  {
   "cell_type": "markdown",
   "metadata": {},
   "source": [
    "##### Summary\n",
    "   - Encapsulation: Protects the internal state of an object by restricting access to it.\n",
    "   - Abstraction: Hides complex implementation details and exposes only the necessary parts.\n",
    "   - Polymorphism: Allows methods to perform differently based on the object they are called on.\n",
    "   - Composition: Models a \"has-a\" relationship by using instances of other classes within a class.\n",
    "\n",
    "    \n",
    "These features make OOP a powerful paradigm for creating flexible, reusable, and maintainable code."
   ]
  },
  {
   "cell_type": "code",
   "execution_count": null,
   "metadata": {},
   "outputs": [],
   "source": []
  }
 ],
 "metadata": {
  "kernelspec": {
   "display_name": "myenv",
   "language": "python",
   "name": "python3"
  },
  "language_info": {
   "codemirror_mode": {
    "name": "ipython",
    "version": 3
   },
   "file_extension": ".py",
   "mimetype": "text/x-python",
   "name": "python",
   "nbconvert_exporter": "python",
   "pygments_lexer": "ipython3",
   "version": "3.11.7"
  }
 },
 "nbformat": 4,
 "nbformat_minor": 2
}
